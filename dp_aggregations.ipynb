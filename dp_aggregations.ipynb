{
  "cells": [
    {
      "cell_type": "markdown",
      "source": [
        "**Computation of DP Aggregations for Client Profiles and Aggregated Transactions (Mobile Money)**"
      ],
      "metadata": {
        "id": "UuPX1S179Vma"
      },
      "id": "UuPX1S179Vma"
    },
    {
      "cell_type": "code",
      "source": [
        "import pandas as pd\n",
        "import numpy as np"
      ],
      "metadata": {
        "id": "GuFmpy3TwLYY"
      },
      "id": "GuFmpy3TwLYY",
      "execution_count": 25,
      "outputs": []
    },
    {
      "cell_type": "code",
      "execution_count": 2,
      "id": "865fee68",
      "metadata": {
        "id": "865fee68"
      },
      "outputs": [],
      "source": [
        "path= \"mobilemoney.csv\""
      ]
    },
    {
      "cell_type": "code",
      "source": [
        "#@markdown Install dependencies\n",
        "\n",
        "import os\n",
        "os.chdir('/content')\n",
        "!pip install pipeline-dp apache_beam\n",
        "# If you'd like to test the most recent version of PipelineDP, uncomment the\n",
        "# following lines and comment-out the previous line.\n",
        "# !git clone https://github.com/OpenMined/PipelineDP.git\n",
        "# !pip install -r PipelineDP/requirements.dev.txt\n",
        "\n",
        "import sys\n",
        "sys.path.insert(0,'/content/PipelineDP')\n",
        "\n",
        "from IPython.display import clear_output\n",
        "clear_output()\n",
        "\n",
        "import apache_beam as beam\n",
        "from apache_beam.runners.portability import fn_api_runner\n",
        "from apache_beam.runners.interactive import interactive_runner\n",
        "from apache_beam.runners.interactive.interactive_beam import *\n",
        "from dataclasses import dataclass\n",
        "import pipeline_dp\n",
        "\n",
        "import pandas as pd\n",
        "import numpy as np\n",
        "import matplotlib.pyplot as plt"
      ],
      "metadata": {
        "id": "xdB4g6FJBFsi"
      },
      "id": "xdB4g6FJBFsi",
      "execution_count": 26,
      "outputs": []
    },
    {
      "cell_type": "code",
      "source": [
        "#Load and inspect the data\n",
        "df = pd.read_csv(path)"
      ],
      "metadata": {
        "id": "K1SJCwqUH8xe"
      },
      "id": "K1SJCwqUH8xe",
      "execution_count": 27,
      "outputs": []
    },
    {
      "cell_type": "code",
      "source": [
        "# Display the column names of the DataFrame\n",
        "df_columns = df.columns.tolist()\n",
        "print(df_columns)\n"
      ],
      "metadata": {
        "colab": {
          "base_uri": "https://localhost:8080/"
        },
        "id": "s-Nf1mcMzwjw",
        "outputId": "17bee6c3-6f21-47dc-a138-3afbfe95e1ea"
      },
      "id": "s-Nf1mcMzwjw",
      "execution_count": 28,
      "outputs": [
        {
          "output_type": "stream",
          "name": "stdout",
          "text": [
            "['TRANSACTION_ID', 'TRANSACTION_START_DATE', 'TRANSACTION_START_TIME', 'TRANSACTION_TYPE', 'TRANSACTION_ENTRY_TYPE', 'PAYMENT_METHOD_TYPE', 'SERVICE_TYPE', 'TRANSACTION_AMOUNT', 'TRANSACTION_TAX_AMOUNT', 'TRANSACTION_APPROVED_AMOUNT', 'COMMISSION', 'INITIATING_PARTY_ACCOUNT_ID', 'INITIATING_PARTY_MSISDN', 'INITIATING_PARTY_ACCOUNT_TYPE', 'INITIATING_PARTY_ACCOUNT_CATEGORY', 'INITIATING_PARTY_ACCOUNT_CATEGORY_SEGMENT', 'INITIATING_PARTY_ACCOUNT_BALANCE_BEFORE', 'INITIATING_PARTY_ACCOUNT_BALANCE_AFTER', 'RECIPIENT_PARTY_ACCOUNT_ID', 'RECIPIENT_PARTY_MSISDN', 'RECIPIENT_PARTY_ACCOUNT_TYPE', 'RECIPIENT_PARTY_ACCOUNT_CATEGORY', 'RECIPIENT_PARTY_ACCOUNT_CATEGORY_SEGMENT', 'BANK_ID', 'TRANSACTION_STATUS', 'TRANSACTION_ERROR_CODE', 'REQUEST_GATEWAY_TYPE', 'LOCATION_INFO', 'SERVICE_TYPE_KEY', 'RECIPIENT_PARTY_ACCOUNT_CATEGORY_SEGMENT_KEY', 'FAILURE_TYPE_KEY', 'COUNTRY_KEY', 'SOURCE_SYSTEM_KEY', 'FILEID', 'LOAD_DATE', 'USER_TYPE', 'PARTY_ACCESS_ID', 'UNIT_PRICE', 'TRANSFER_PROFILE_DETAILS_ID', 'TRANSFER_VALUE', 'ATTR_3_NAME', 'ATTR_3_VALUE', 'FIRST_PTY_PAYMENT_METHOD_DESC', 'SECOND_PTY_PAYMENT_METHOD_DESC', 'PROVIDER_ID', 'TRANSFER_SUBTYPE', 'REFERENCE_NUMBER', 'WALLET_NUMBER', 'TXN_SEQUENCE_NUMBER', 'PAYMENT_TYPE_ID']\n"
          ]
        }
      ]
    },
    {
      "cell_type": "markdown",
      "source": [
        "**Differentially Private Client Profiles**"
      ],
      "metadata": {
        "id": "78Bl28cmSkEx"
      },
      "id": "78Bl28cmSkEx"
    },
    {
      "cell_type": "code",
      "source": [
        "import pipeline_dp\n",
        "from pipeline_dp import DPEngine, BudgetAccountant, AggregateParams, Metrics, DataExtractors, NaiveBudgetAccountant, LocalBackend\n",
        "\n",
        "# Grouping by \"SERVICE_TYPE\" and account ID to count transactions\n",
        "transaction_counts = df.groupby(['SERVICE_TYPE', 'INITIATING_PARTY_ACCOUNT_ID']).size().reset_index(name='counts')\n",
        "\n",
        "# Convert transaction_counts DataFrame to list of dicts\n",
        "data = transaction_counts.to_dict(orient='records')\n",
        "\n",
        "# Setup the differential privacy engine\n",
        "backend = LocalBackend()\n",
        "budget_accountant = NaiveBudgetAccountant(total_epsilon=1.0, total_delta=1e-6)\n",
        "dp_engine = DPEngine(budget_accountant, backend)\n",
        "\n",
        "# Define the data extractors\n",
        "data_extractors = DataExtractors(\n",
        "    partition_extractor=lambda x: x['SERVICE_TYPE'],\n",
        "    privacy_id_extractor=lambda x: x['INITIATING_PARTY_ACCOUNT_ID'],\n",
        "    value_extractor=lambda x: x['counts']\n",
        ")\n",
        "\n",
        "# Define aggregate parameters for computing count and sum\n",
        "params = AggregateParams(\n",
        "    metrics=[Metrics.COUNT, Metrics.SUM, Metrics.MEAN, Metrics.VARIANCE],\n",
        "    max_partitions_contributed=2,\n",
        "    max_contributions_per_partition=10,\n",
        "    min_value=0,\n",
        "    max_value=42168  # Max transaction count\n",
        ")\n",
        "\n",
        "# Compute differentially private results\n",
        "dp_result = dp_engine.aggregate(data, params, data_extractors)\n",
        "budget_accountant.compute_budgets()\n",
        "\n",
        "# Displaying the differentially private client profile statistics\n",
        "print(\"Differentially Private Client Profiles:\")\n",
        "for result in list(dp_result):\n",
        "    print(result)\n"
      ],
      "metadata": {
        "id": "7NQGMoK3wLm9",
        "colab": {
          "base_uri": "https://localhost:8080/"
        },
        "outputId": "96c743bd-ec60-4974-b32c-dd42674c6005"
      },
      "id": "7NQGMoK3wLm9",
      "execution_count": 41,
      "outputs": [
        {
          "output_type": "stream",
          "name": "stdout",
          "text": [
            "Differentially Private Client Profiles:\n",
            "('AUTOO2C', MetricsTuple(variance=-6519231975.436259, count=91.25002337584738, sum=-5547656.598814623, mean=-60796.22112494726))\n",
            "('CASHIN', MetricsTuple(variance=27457516.41869557, count=10052.805005340953, sum=-1364325.2261735392, mean=-135.7158748676302))\n",
            "('CASHOUTPAS', MetricsTuple(variance=26203703.952795804, count=4915.317009570077, sum=738732.8398997145, mean=150.29200323425903))\n",
            "('C2CREQ', MetricsTuple(variance=175799868.99099442, count=210.0842174270656, sum=1121958.5275041321, mean=5340.517918218391))\n",
            "('CCPSFREQ', MetricsTuple(variance=-53220186.75329572, count=3685.863283081446, sum=-1783254.7014179914, mean=-483.80923665925))\n",
            "('P2P', MetricsTuple(variance=-170376414.1642229, count=932.8465637186309, sum=-4397121.754158224, mean=-4713.660236502197))\n",
            "('MERCHPAY', MetricsTuple(variance=-1800107836.3088994, count=52.41569602256641, sum=-1527304.6971807238, mean=-29138.308046566373))\n"
          ]
        }
      ]
    },
    {
      "cell_type": "markdown",
      "source": [
        "**Differentially Private Aggregated Transactions**"
      ],
      "metadata": {
        "id": "3qz4MV_rLFn-"
      },
      "id": "3qz4MV_rLFn-"
    },
    {
      "cell_type": "code",
      "source": [
        "import pipeline_dp\n",
        "from pipeline_dp import DPEngine, BudgetAccountant, AggregateParams, Metrics, DataExtractors, NaiveBudgetAccountant, LocalBackend\n",
        "import math\n",
        "\n",
        "# Parse dates and time, and create additional time-related columns\n",
        "df['TRANSACTION_START_DATE'] = pd.to_datetime(df['TRANSACTION_START_DATE'])\n",
        "df['month'] = df['TRANSACTION_START_DATE'].dt.month\n",
        "df['day'] = df['TRANSACTION_START_DATE'].dt.dayofweek\n",
        "df['hour'] = pd.to_datetime(df['TRANSACTION_START_TIME'], format='%H:%M:%S').dt.hour\n",
        "\n",
        "# Convert DataFrame to list of dicts\n",
        "data = df[['SERVICE_TYPE', 'month', 'day', 'hour', 'TRANSACTION_ID', 'TRANSACTION_AMOUNT']].to_dict(orient='records')\n",
        "\n",
        "# Setup the differential privacy engine\n",
        "backend = LocalBackend()\n",
        "budget_accountant = NaiveBudgetAccountant(total_epsilon=1.0, total_delta=1e-5)  # Privacy budget\n",
        "dp_engine = DPEngine(budget_accountant, backend)\n",
        "\n",
        "# Define the data extractors\n",
        "data_extractors = DataExtractors(\n",
        "    partition_extractor=lambda x: (x['SERVICE_TYPE'], x['month'], x['day'], x['hour']),\n",
        "    privacy_id_extractor=lambda x: x['TRANSACTION_ID'],\n",
        "    value_extractor=lambda x: x['TRANSACTION_AMOUNT']\n",
        ")\n",
        "\n",
        "# Define aggregate parameters\n",
        "params = AggregateParams(\n",
        "    metrics=[Metrics.COUNT, Metrics.SUM, Metrics.MEAN, Metrics.VARIANCE],\n",
        "    max_partitions_contributed=2,  # Reduced partition contributions\n",
        "    max_contributions_per_partition=2,  # Reduced contributions per partition\n",
        "    min_value=0,  # Minimum\n",
        "    max_value=1000000000  # Maximum transaction value\n",
        ")\n",
        "\n",
        "# Compute differentially private results\n",
        "dp_result = dp_engine.aggregate(data, params, data_extractors)\n",
        "budget_accountant.compute_budgets()\n",
        "\n",
        "# Sort the results by service_info before displaying\n",
        "sorted_dp_result = sorted(dp_result, key=lambda x: x[0])  # Sorting by service_info tuple\n",
        "\n",
        "# Displaying results\n",
        "print(\"Differentially Private Aggregated Transactions:\")\n",
        "for result in sorted_dp_result:\n",
        "    service_info, metrics = result\n",
        "    variance = metrics.variance if metrics.variance >= 0 else 0  # Ensure non-negative variance\n",
        "    stddev = math.sqrt(variance)  # Compute standard deviation\n",
        "    print(f\"Service: {service_info}, Count: {metrics.count}, Sum: {metrics.sum}, Mean: {metrics.mean}, StdDev: {stddev}, Variance: {variance}\")\n"
      ],
      "metadata": {
        "colab": {
          "base_uri": "https://localhost:8080/"
        },
        "id": "56qGGfhlK7hN",
        "outputId": "3580ed58-587e-47f3-c941-395f019d819b"
      },
      "id": "56qGGfhlK7hN",
      "execution_count": 42,
      "outputs": [
        {
          "output_type": "stream",
          "name": "stdout",
          "text": [
            "Differentially Private Aggregated Transactions:\n",
            "Service: ('CASHIN', 3, 4, 7), Count: 326.43167237372836, Sum: 22688869153.31731, Mean: 69505722.2490992, StdDev: 0.0, Variance: 0\n",
            "Service: ('CASHIN', 3, 4, 8), Count: 636.7257506715541, Sum: 150528834242.30832, Mean: 236410784.5230787, StdDev: 296564613.5643319, Variance: 8.79505700185615e+16\n",
            "Service: ('CASHIN', 3, 4, 9), Count: 1514.4910971408535, Sum: 323296938407.5674, Mean: 213469025.34977365, StdDev: 304058206.6777869, Variance: 9.245139304811176e+16\n",
            "Service: ('CASHIN', 3, 4, 10), Count: 720.5506549464772, Sum: 135194452651.59798, Mean: 187626576.59597892, StdDev: 267114244.49310893, Variance: 7.135001961112437e+16\n",
            "Service: ('CASHIN', 3, 4, 11), Count: 915.3698435143742, Sum: 171029577253.96835, Mean: 186842049.10808015, StdDev: 292198478.39800423, Variance: 8.537995077810896e+16\n",
            "Service: ('CASHIN', 3, 4, 12), Count: 684.3125696550997, Sum: 153328040804.06546, Mean: 224061412.2890426, StdDev: 377790187.2057453, Variance: 1.4272542554895206e+17\n",
            "Service: ('CASHIN', 3, 4, 13), Count: 1129.3560300135287, Sum: 234548606713.15497, Mean: 207683494.3807271, StdDev: 289268100.3863575, Variance: 8.367603390113178e+16\n",
            "Service: ('CASHIN', 3, 4, 14), Count: 787.6214219385001, Sum: 117041230662.1563, Mean: 148600872.7061962, StdDev: 139983757.57262865, Variance: 1.9595452384152464e+16\n",
            "Service: ('CASHIN', 3, 4, 15), Count: 710.7374693906168, Sum: 140325322956.83963, Mean: 197436225.04826427, StdDev: 312864421.1508998, Variance: 9.78841460220876e+16\n",
            "Service: ('CASHIN', 3, 4, 16), Count: 640.3121014505741, Sum: 130661021872.22456, Mean: 204058335.8899868, StdDev: 321294526.637586, Variance: 1.0323017284727046e+17\n",
            "Service: ('CASHIN', 3, 4, 17), Count: 916.1039429337834, Sum: 215201562029.12607, Mean: 234909546.7703723, StdDev: 325610127.92442095, Variance: 1.060219554069578e+17\n",
            "Service: ('CASHIN', 3, 4, 18), Count: 1647.0440592675586, Sum: 267844202709.62308, Mean: 162621152.24090213, StdDev: 253935195.9887634, Variance: 6.448308376185168e+16\n",
            "Service: ('CASHIN', 3, 4, 19), Count: 1622.8274669987732, Sum: 220379032122.55844, Mean: 135799422.0606355, StdDev: 233524163.47148874, Variance: 5.453353492505859e+16\n",
            "Service: ('CASHIN', 3, 4, 20), Count: 2316.7409944358515, Sum: 227590206671.28513, Mean: 98237225.14423996, StdDev: 158608947.9376434, Variance: 2.515679836588608e+16\n",
            "Service: ('CASHIN', 3, 4, 21), Count: 909.1158040433947, Sum: 104738394231.74423, Mean: 115209078.717924, StdDev: 203959478.38964695, Variance: 4.159946882497686e+16\n",
            "Service: ('CASHIN', 3, 4, 22), Count: 489.3586434905883, Sum: 80370286256.55977, Mean: 164235959.30232203, StdDev: 161222394.23994815, Variance: 2.5992660404461264e+16\n",
            "Service: ('CASHIN', 3, 4, 23), Count: 56.66272234878852, Sum: -28579142724.121365, Mean: -504372919.96317935, StdDev: 0.0, Variance: 0\n",
            "Service: ('CASHOUTPAS', 3, 4, 7), Count: 164.16553019804996, Sum: 55250119634.2906, Mean: 336551281.9142766, StdDev: 275917434.5917854, Variance: 7.613043071171216e+16\n",
            "Service: ('CASHOUTPAS', 3, 4, 8), Count: 476.88039625698, Sum: 207066877591.7869, Mean: 434211343.5927512, StdDev: 253460547.34087586, Variance: 6.4242249058336376e+16\n",
            "Service: ('CASHOUTPAS', 3, 4, 9), Count: 885.6070336539124, Sum: 383393496282.2687, Mean: 432916047.08742136, StdDev: 362205048.63873607, Variance: 1.3119249725938915e+17\n",
            "Service: ('CASHOUTPAS', 3, 4, 10), Count: 519.9407039146754, Sum: 203598185334.49396, Mean: 391579623.98709476, StdDev: 323164383.17889816, Variance: 1.0443521855539771e+17\n",
            "Service: ('CASHOUTPAS', 3, 4, 11), Count: 680.0384182638081, Sum: 273178326362.4978, Mean: 401710137.28892505, StdDev: 326032466.09263295, Variance: 1.0629716894644386e+17\n",
            "Service: ('CASHOUTPAS', 3, 4, 12), Count: 594.9768971273152, Sum: 253230634676.3451, Mean: 425614231.239903, StdDev: 298917968.33012944, Variance: 8.935195179061226e+16\n",
            "Service: ('CASHOUTPAS', 3, 4, 13), Count: 834.775087835791, Sum: 333013166688.7705, Mean: 398925616.66176325, StdDev: 341823388.24959546, Variance: 1.168432287544337e+17\n",
            "Service: ('CASHOUTPAS', 3, 4, 14), Count: 708.025508745457, Sum: 283262118927.82227, Mean: 400073324.2362008, StdDev: 344859124.72819, Variance: 1.1892781590829333e+17\n",
            "Service: ('CASHOUTPAS', 3, 4, 15), Count: 560.7040993766277, Sum: 253607857252.5795, Mean: 452302484.56277084, StdDev: 366883566.81686074, Variance: 1.3460355160026194e+17\n",
            "Service: ('CASHOUTPAS', 3, 4, 16), Count: 555.1008428098576, Sum: 233022270145.72568, Mean: 419783672.0373065, StdDev: 410082592.89469796, Variance: 1.681677329952386e+17\n",
            "Service: ('CASHOUTPAS', 3, 4, 17), Count: 799.9868390256306, Sum: 344302483011.5028, Mean: 430385184.12485003, StdDev: 327988645.1011414, Variance: 1.0757655131528246e+17\n",
            "Service: ('CASHOUTPAS', 3, 4, 18), Count: 1187.4469763880188, Sum: 450896579760.65, Mean: 379719337.9802011, StdDev: 337847072.6707268, Variance: 1.1414064451217934e+17\n",
            "Service: ('CASHOUTPAS', 3, 4, 19), Count: 962.8577885986597, Sum: 278566164678.89233, Mean: 289311846.4402897, StdDev: 315219057.74473906, Variance: 9.936305436548115e+16\n",
            "Service: ('CASHOUTPAS', 3, 4, 20), Count: 865.2160530189867, Sum: 284979944810.0402, Mean: 329374315.02300906, StdDev: 282954824.23186296, Variance: 8.006343255608448e+16\n",
            "Service: ('CASHOUTPAS', 3, 4, 21), Count: 308.11874965485185, Sum: 131204431936.1603, Mean: 425824238.48964965, StdDev: 316528078.1269785, Variance: 1.0019002424275861e+17\n",
            "Service: ('CASHOUTPAS', 3, 4, 22), Count: 106.12348277130513, Sum: 56999355491.621315, Mean: 537104079.1645923, StdDev: 279316923.64956343, Variance: 7.801794383705605e+16\n",
            "Service: ('CCPREQ', 3, 4, 10), Count: 41.32868769601919, Sum: -73689015991.77165, Mean: -1782999173.2079468, StdDev: 0.0, Variance: 0\n",
            "Service: ('CCPREQ', 3, 4, 18), Count: 33.63799507642398, Sum: 2455898380.6494894, Mean: 73009653.96629024, StdDev: 926749796.795229, Variance: 8.588651858599981e+17\n",
            "Service: ('CCPREQ', 3, 4, 19), Count: 73.18096811827854, Sum: 14611940946.29552, Mean: 199668593.1057787, StdDev: 489804921.0013222, Variance: 2.399088606371115e+17\n",
            "Service: ('CCPSFREQ', 3, 4, 7), Count: 129.54601130634546, Sum: 1164574040.2352319, Mean: 8989655.709902883, StdDev: 0.0, Variance: 0\n",
            "Service: ('CCPSFREQ', 3, 4, 8), Count: 114.40987933709403, Sum: -50030926168.04673, Mean: -437295506.803543, StdDev: 0.0, Variance: 0\n",
            "Service: ('CCPSFREQ', 3, 4, 9), Count: 623.4342750028591, Sum: 9807500588.0858, Mean: 15731410.641548097, StdDev: 0.0, Variance: 0\n",
            "Service: ('CCPSFREQ', 3, 4, 10), Count: 153.26783316509682, Sum: -37770835122.3266, Mean: -246436805.0511986, StdDev: 0.0, Variance: 0\n",
            "Service: ('CCPSFREQ', 3, 4, 11), Count: 317.01898960210383, Sum: -31461137556.291832, Mean: -99240545.7975223, StdDev: 0.0, Variance: 0\n",
            "Service: ('CCPSFREQ', 3, 4, 12), Count: 289.55680796623346, Sum: 19315638717.960484, Mean: 66707596.52873701, StdDev: 462666189.2431062, Variance: 2.1406000266873773e+17\n",
            "Service: ('CCPSFREQ', 3, 4, 13), Count: 439.7627605946327, Sum: -13029000176.824266, Mean: -29627338.520448804, StdDev: 0.0, Variance: 0\n",
            "Service: ('CCPSFREQ', 3, 4, 14), Count: 295.7007282402774, Sum: 6335112717.607443, Mean: 21424068.703881323, StdDev: 134268706.07377872, Variance: 1.8028085430726784e+16\n",
            "Service: ('CCPSFREQ', 3, 4, 15), Count: 182.40067310846644, Sum: -59795894204.01678, Mean: -327827157.57007396, StdDev: 0.0, Variance: 0\n",
            "Service: ('CCPSFREQ', 3, 4, 16), Count: 174.90190645252005, Sum: 74000752.77565493, Mean: 423098.6058219075, StdDev: 347991824.75802916, Variance: 1.2109831009842288e+17\n",
            "Service: ('CCPSFREQ', 3, 4, 17), Count: 314.1430131458037, Sum: -5828760570.738777, Mean: -18554481.0065009, StdDev: 200941807.83143753, Variance: 4.037761013456637e+16\n",
            "Service: ('CCPSFREQ', 3, 4, 18), Count: 819.8071067145793, Sum: 43735248013.93026, Mean: 53348217.715752184, StdDev: 213509412.0493384, Variance: 4.558626903365418e+16\n",
            "Service: ('CCPSFREQ', 3, 4, 19), Count: 594.8603827531042, Sum: -14045908018.447895, Mean: -23612108.699256957, StdDev: 0.0, Variance: 0\n",
            "Service: ('CCPSFREQ', 3, 4, 20), Count: 918.6114723601204, Sum: 6467859312.216419, Mean: 7040908.487240016, StdDev: 0.0, Variance: 0\n",
            "Service: ('CCPSFREQ', 3, 4, 21), Count: 275.8487900409964, Sum: 16908987731.420067, Mean: 61298031.17464125, StdDev: 295198403.36399245, Variance: 8.71420973486504e+16\n",
            "Service: ('CCPSFREQ', 3, 4, 22), Count: 140.68933260909398, Sum: 24062711805.62512, Mean: 171034373.10690415, StdDev: 336945310.64256275, Variance: 1.1353214236401312e+17\n",
            "Service: ('MERCHPAY', 3, 4, 0), Count: 87.60472568529076, Sum: -11789621202.901495, Mean: -134577456.98849928, StdDev: 0.0, Variance: 0\n",
            "Service: ('MERCHPAY', 3, 4, 6), Count: 95.26702033702168, Sum: 20635082121.963963, Mean: 216602577.14541924, StdDev: 401497893.0859797, Variance: 1.6120055815248077e+17\n",
            "Service: ('MERCHPAY', 3, 4, 7), Count: 228.76372571539832, Sum: 16718678995.371042, Mean: 73082736.09851289, StdDev: 203790395.86794466, Variance: 4.15305254480136e+16\n",
            "Service: ('MERCHPAY', 3, 4, 8), Count: 357.10363962722477, Sum: 35965155513.909256, Mean: 100713494.6914928, StdDev: 216708068.79102248, Variance: 4.696238707913453e+16\n",
            "Service: ('MERCHPAY', 3, 4, 9), Count: 350.97059780400014, Sum: 17757643822.7657, Mean: 50595816.0993374, StdDev: 203790249.89941007, Variance: 4.1530465954064e+16\n",
            "Service: ('MERCHPAY', 3, 4, 10), Count: 434.6645368289901, Sum: -15691594644.645575, Mean: -36100471.31776732, StdDev: 0.0, Variance: 0\n",
            "Service: ('MERCHPAY', 3, 4, 11), Count: 349.0722753073496, Sum: 3533533200.471686, Mean: 10122640.640424669, StdDev: 175785100.77840504, Variance: 3.0900401655674016e+16\n",
            "Service: ('MERCHPAY', 3, 4, 12), Count: 369.4684407276509, Sum: 28301107008.684822, Mean: 76599524.85507858, StdDev: 144021805.42303148, Variance: 2.0742280437309536e+16\n",
            "Service: ('MERCHPAY', 3, 4, 13), Count: 348.25534425632213, Sum: 11634792401.067307, Mean: 33408797.863282442, StdDev: 277338984.27729285, Variance: 7.691691219996048e+16\n",
            "Service: ('MERCHPAY', 3, 4, 14), Count: 322.82984739076346, Sum: 31422625631.756733, Mean: 97334945.59355843, StdDev: 141408767.63917202, Variance: 1.9996439565229344e+16\n",
            "Service: ('MERCHPAY', 3, 4, 15), Count: 333.0842296938645, Sum: 30008182855.791615, Mean: 90091875.20937854, StdDev: 123302976.91330531, Variance: 1.5203624115683104e+16\n",
            "Service: ('MERCHPAY', 3, 4, 16), Count: 319.5968055599369, Sum: 11520077143.312204, Mean: 36045657.97561371, StdDev: 0.0, Variance: 0\n",
            "Service: ('MERCHPAY', 3, 4, 17), Count: 336.5461300908355, Sum: 55131758745.5115, Mean: 163816350.31914097, StdDev: 374680295.0986778, Variance: 1.4038532353523227e+17\n",
            "Service: ('MERCHPAY', 3, 4, 18), Count: 395.43127544232993, Sum: 27267354035.22747, Mean: 68955987.3703115, StdDev: 0.0, Variance: 0\n",
            "Service: ('MERCHPAY', 3, 4, 19), Count: 590.3502265847346, Sum: 47517901403.22669, Mean: 80491036.10601616, StdDev: 211570718.8006689, Variance: 4.476216905383171e+16\n",
            "Service: ('MERCHPAY', 3, 4, 20), Count: 612.7229985247541, Sum: 23656033197.37703, Mean: 38608038.63137728, StdDev: 139252100.73732454, Variance: 1.9391147559757984e+16\n",
            "Service: ('MERCHPAY', 3, 4, 21), Count: 546.6306605107966, Sum: 14626667063.273298, Mean: 26757860.690809906, StdDev: 205856608.86465353, Variance: 4.237694341325494e+16\n",
            "Service: ('MERCHPAY', 3, 4, 22), Count: 416.6203868093726, Sum: 27277363122.920654, Mean: 65472943.683386266, StdDev: 177870072.7387977, Variance: 3.1637762776105184e+16\n",
            "Service: ('MERCHPAY', 3, 4, 23), Count: 222.10482338099973, Sum: 30220087337.609238, Mean: 136062274.009104, StdDev: 310490465.3396711, Variance: 9.640432906684549e+16\n",
            "Service: ('P2P', 3, 4, 7), Count: 57.3830442680337, Sum: 43197347498.81373, Mean: 752789400.5943776, StdDev: 531396174.35084933, Variance: 2.8238189411471827e+17\n",
            "Service: ('P2P', 3, 4, 8), Count: 70.19373553741025, Sum: 12644875215.439499, Mean: 180142503.0115447, StdDev: 0.0, Variance: 0\n",
            "Service: ('P2P', 3, 4, 9), Count: 121.1114330116252, Sum: 26388097387.46885, Mean: 217882793.814651, StdDev: 0.0, Variance: 0\n",
            "Service: ('P2P', 3, 4, 10), Count: 111.34785390537581, Sum: 49946962919.18791, Mean: 448566911.41648036, StdDev: 651448577.6549469, Variance: 4.243852493286534e+17\n",
            "Service: ('P2P', 3, 4, 11), Count: 151.9978918095876, Sum: 85475491017.66881, Mean: 562346556.2584682, StdDev: 464012733.58642465, Variance: 2.153078169303463e+17\n",
            "Service: ('P2P', 3, 4, 12), Count: 122.8389827303472, Sum: 46013863860.689224, Mean: 374586819.57418686, StdDev: 354113197.40189654, Variance: 1.2539615657419456e+17\n",
            "Service: ('P2P', 3, 4, 13), Count: 149.04391933983425, Sum: 54972444675.870255, Mean: 368833864.00036806, StdDev: 0.0, Variance: 0\n",
            "Service: ('P2P', 3, 4, 14), Count: 122.31315360113513, Sum: 56427053655.97381, Mean: 461332669.4198664, StdDev: 275469654.40347964, Variance: 7.58835304971725e+16\n",
            "Service: ('P2P', 3, 4, 15), Count: 86.46281535280286, Sum: 86319626399.3858, Mean: 998343924.4624085, StdDev: 0.0, Variance: 0\n",
            "Service: ('P2P', 3, 4, 16), Count: 179.88041120083653, Sum: 101118181668.54327, Mean: 562141152.521854, StdDev: 138366735.38085833, Variance: 1.9145353459956476e+16\n",
            "Service: ('P2P', 3, 4, 17), Count: 85.66214619367383, Sum: 24724548682.540047, Mean: 288628639.1499021, StdDev: 569030112.4977648, Variance: 3.237952689292189e+17\n",
            "Service: ('P2P', 3, 4, 18), Count: 163.3425626544631, Sum: 50756010119.90343, Mean: 310733524.04341376, StdDev: 240274328.05434325, Variance: 5.773175272196616e+16\n",
            "Service: ('P2P', 3, 4, 19), Count: 171.31389095721534, Sum: 78535846466.96704, Mean: 458432448.3446641, StdDev: 388421150.5902326, Variance: 1.5087099022584016e+17\n",
            "Service: ('P2P', 3, 4, 20), Count: 183.98987436998868, Sum: 62878125219.91622, Mean: 341747747.9954871, StdDev: 246794140.42772874, Variance: 6.090734774946149e+16\n",
            "Service: ('P2P', 3, 4, 21), Count: 75.03011707498808, Sum: -1761789948.0684593, Mean: -23481103.54549569, StdDev: 414990626.21408266, Variance: 1.7221721984555648e+17\n",
            "Service: ('P2P', 3, 4, 22), Count: -58.29463846265571, Sum: 542697657262.1721, Mean: -9309563822.234375, StdDev: 0.0, Variance: 0\n"
          ]
        }
      ]
    },
    {
      "cell_type": "markdown",
      "source": [
        "**Parameter Tuning for Client Profiles**"
      ],
      "metadata": {
        "id": "-RMAu6yVwYsa"
      },
      "id": "-RMAu6yVwYsa"
    },
    {
      "cell_type": "code",
      "source": [
        "import pipeline_dp\n",
        "from dataclasses import dataclass\n",
        "\n",
        "# Define possible values for hyperparameters\n",
        "noise_options = [pipeline_dp.NoiseKind.LAPLACE, pipeline_dp.NoiseKind.GAUSSIAN]\n",
        "max_partitions_options = [1, 2, 5]\n",
        "max_contributions_options = [1, 3, 5]\n",
        "\n",
        "@dataclass\n",
        "class HyperParameters:\n",
        "    noise_kind: pipeline_dp.NoiseKind\n",
        "    max_partitions_contributed: int\n",
        "    max_contributions_per_partition: int\n",
        "\n",
        "def evaluate_parameters(data, backend, hyper_params, total_epsilon=1.0, total_delta=1e-5):\n",
        "    # Reinitialize the budget accountant for each evaluation\n",
        "    budget_accountant = pipeline_dp.NaiveBudgetAccountant(total_epsilon=total_epsilon, total_delta=total_delta)\n",
        "\n",
        "    dp_engine = pipeline_dp.DPEngine(budget_accountant, backend)\n",
        "    data_extractors = pipeline_dp.DataExtractors(\n",
        "        partition_extractor=lambda x: x['SERVICE_TYPE'],\n",
        "        privacy_id_extractor=lambda x: x['TRANSACTION_ID'],\n",
        "        value_extractor=lambda x: x['TRANSACTION_AMOUNT']\n",
        "    )\n",
        "    params = pipeline_dp.AggregateParams(\n",
        "        metrics=[pipeline_dp.Metrics.COUNT, pipeline_dp.Metrics.SUM],\n",
        "        max_partitions_contributed=hyper_params.max_partitions_contributed,\n",
        "        max_contributions_per_partition=hyper_params.max_contributions_per_partition,\n",
        "        min_value=0,\n",
        "        max_value=1000000000\n",
        "    )\n",
        "    # Compute DP results\n",
        "    dp_result = dp_engine.aggregate(data, params, data_extractors)\n",
        "    # Finalize the budget accountant for this evaluation\n",
        "    budget_accountant.compute_budgets()\n",
        "\n",
        "    # Correctly extract values from the result, which is presumably a list of tuples\n",
        "    return np.var([metrics.sum for (_, metrics) in dp_result])\n",
        "\n",
        "# Adjust the call in the main evaluation loop\n",
        "results = []\n",
        "for noise in noise_options:\n",
        "    for max_parts in max_partitions_options:\n",
        "        for max_contribs in max_contributions_options:\n",
        "            hyper_params = HyperParameters(noise_kind=noise,\n",
        "                                           max_partitions_contributed=max_parts,\n",
        "                                           max_contributions_per_partition=max_contribs)\n",
        "            variance = evaluate_parameters(data, backend, hyper_params)\n",
        "            results.append((hyper_params, variance))\n",
        "\n",
        "# Find the parameters with the minimum variance\n",
        "best_params = min(results, key=lambda x: x[1])\n",
        "print(\"Best HyperParameters:\", best_params)\n"
      ],
      "metadata": {
        "colab": {
          "base_uri": "https://localhost:8080/"
        },
        "id": "AQQlA_gVpaSK",
        "outputId": "40bd4255-e87f-4b62-e649-941540bf9103"
      },
      "id": "AQQlA_gVpaSK",
      "execution_count": 47,
      "outputs": [
        {
          "output_type": "stream",
          "name": "stdout",
          "text": [
            "Best HyperParameters: (HyperParameters(noise_kind=<NoiseKind.GAUSSIAN: 'gaussian'>, max_partitions_contributed=1, max_contributions_per_partition=5), 1.522208203784179e+24)\n"
          ]
        }
      ]
    },
    {
      "cell_type": "markdown",
      "source": [
        "**Parameter Tuning for Aggregated Transactions**"
      ],
      "metadata": {
        "id": "JtP3pNzes9do"
      },
      "id": "JtP3pNzes9do"
    },
    {
      "cell_type": "code",
      "source": [
        "import pipeline_dp\n",
        "from dataclasses import dataclass\n",
        "\n",
        "# Define hyperparameters data class\n",
        "@dataclass\n",
        "class HyperParameters:\n",
        "    noise_kind: pipeline_dp.NoiseKind\n",
        "    max_partitions_contributed: int\n",
        "    max_contributions_per_partition: int\n",
        "\n",
        "# Possible values for hyperparameters\n",
        "noise_options = [pipeline_dp.NoiseKind.LAPLACE, pipeline_dp.NoiseKind.GAUSSIAN]\n",
        "max_partitions_options = [1, 2, 5]\n",
        "max_contributions_options = [1, 3, 5]\n"
      ],
      "metadata": {
        "id": "Ru6Cg8QEparI"
      },
      "id": "Ru6Cg8QEparI",
      "execution_count": 44,
      "outputs": []
    },
    {
      "cell_type": "code",
      "source": [
        "def evaluate_aggregated_transactions(data, backend, hyper_params, total_epsilon=1.0, total_delta=1e-6):\n",
        "    # Initialize budget accountant for each evaluation\n",
        "    budget_accountant = pipeline_dp.NaiveBudgetAccountant(total_epsilon=total_epsilon, total_delta=total_delta)\n",
        "\n",
        "    # Initialize DP engine\n",
        "    dp_engine = pipeline_dp.DPEngine(budget_accountant, backend)\n",
        "    data_extractors = pipeline_dp.DataExtractors(\n",
        "        partition_extractor=lambda x: (x['SERVICE_TYPE'], x['month'], x['day'], x['hour']),\n",
        "        privacy_id_extractor=lambda x: x['TRANSACTION_ID'],\n",
        "        value_extractor=lambda x: x['TRANSACTION_AMOUNT']\n",
        "    )\n",
        "\n",
        "    # Aggregate parameters definition\n",
        "    params = pipeline_dp.AggregateParams(\n",
        "        metrics=[pipeline_dp.Metrics.COUNT, pipeline_dp.Metrics.SUM, pipeline_dp.Metrics.MEAN, pipeline_dp.Metrics.VARIANCE],\n",
        "        max_partitions_contributed=hyper_params.max_partitions_contributed,\n",
        "        max_contributions_per_partition=hyper_params.max_contributions_per_partition,\n",
        "        min_value=0,\n",
        "        max_value=1000000000  # Adjust based on your data\n",
        "    )\n",
        "\n",
        "    # Run DP aggregation\n",
        "    dp_result = dp_engine.aggregate(data, params, data_extractors)\n",
        "    budget_accountant.compute_budgets()\n",
        "\n",
        "    # Return a metric for evaluation, e.g., variance of means\n",
        "    return np.var([metrics.mean for (_, metrics) in dp_result])\n"
      ],
      "metadata": {
        "id": "wQZJpJtGpa6p"
      },
      "id": "wQZJpJtGpa6p",
      "execution_count": 45,
      "outputs": []
    },
    {
      "cell_type": "code",
      "source": [
        "results = []\n",
        "for noise in noise_options:\n",
        "    for max_parts in max_partitions_options:\n",
        "        for max_contribs in max_contributions_options:\n",
        "            hyper_params = HyperParameters(noise_kind=noise,\n",
        "                                           max_partitions_contributed=max_parts,\n",
        "                                           max_contributions_per_partition=max_contribs)\n",
        "            variance = evaluate_aggregated_transactions(data, backend, hyper_params)\n",
        "            results.append((hyper_params, variance))\n",
        "\n",
        "# Find the best parameters\n",
        "best_params = min(results, key=lambda x: x[1])\n",
        "print(\"Best HyperParameters for Aggregated Transactions:\", best_params)\n"
      ],
      "metadata": {
        "colab": {
          "base_uri": "https://localhost:8080/"
        },
        "id": "auWDILOStMAm",
        "outputId": "c4435ddf-1036-4e51-b76d-b75273dbdb57"
      },
      "id": "auWDILOStMAm",
      "execution_count": 46,
      "outputs": [
        {
          "output_type": "stream",
          "name": "stdout",
          "text": [
            "Best HyperParameters for Aggregated Transactions: (HyperParameters(noise_kind=<NoiseKind.GAUSSIAN: 'gaussian'>, max_partitions_contributed=5, max_contributions_per_partition=1), 2.239932056391873e+16)\n"
          ]
        }
      ]
    }
  ],
  "metadata": {
    "kernelspec": {
      "display_name": "Python 3 (ipykernel)",
      "language": "python",
      "name": "python3"
    },
    "language_info": {
      "codemirror_mode": {
        "name": "ipython",
        "version": 3
      },
      "file_extension": ".py",
      "mimetype": "text/x-python",
      "name": "python",
      "nbconvert_exporter": "python",
      "pygments_lexer": "ipython3",
      "version": "3.8.17"
    },
    "colab": {
      "provenance": []
    }
  },
  "nbformat": 4,
  "nbformat_minor": 5
}